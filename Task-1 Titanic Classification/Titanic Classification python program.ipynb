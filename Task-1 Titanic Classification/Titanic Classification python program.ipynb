{
 "cells": [
  {
   "cell_type": "markdown",
   "id": "1977ac16",
   "metadata": {},
   "source": [
    "# Titanic Classification"
   ]
  },
  {
   "cell_type": "markdown",
   "id": "e32dda5b",
   "metadata": {},
   "source": [
    "#### Make a system which tells whether the person will be save from sinking. What factors were most likely lead to success-socio-economic status, age, gender and more."
   ]
  },
  {
   "cell_type": "markdown",
   "id": "f62db6f3",
   "metadata": {},
   "source": [
    "### Importing the libraries"
   ]
  },
  {
   "cell_type": "code",
   "execution_count": 1,
   "id": "bba53476",
   "metadata": {},
   "outputs": [],
   "source": [
    "# Importing libraries\n",
    "import numpy as np\n",
    "import pandas as pd\n",
    "from scipy.stats import mode\n",
    "import matplotlib.pyplot as plt\n",
    "import seaborn as sns\n",
    "from sklearn import preprocessing\n",
    "from sklearn.preprocessing import LabelEncoder\n",
    "from sklearn.model_selection import train_test_split, cross_val_score\n",
    "\n",
    "from sklearn.linear_model import LogisticRegression\n",
    "from sklearn.svm import SVC\n",
    "from sklearn.naive_bayes import GaussianNB\n",
    "from sklearn.ensemble import RandomForestClassifier\n",
    "from sklearn.metrics import accuracy_score, confusion_matrix, classification_report\n",
    "\n",
    "\n",
    "%matplotlib inline\n"
   ]
  },
  {
   "cell_type": "markdown",
   "id": "1e52b182",
   "metadata": {},
   "source": [
    "### Creating the data frame using titanic.csv"
   ]
  },
  {
   "cell_type": "code",
   "execution_count": 2,
   "id": "67295943",
   "metadata": {},
   "outputs": [
    {
     "name": "stdout",
     "output_type": "stream",
     "text": [
      "(891, 12)\n",
      "<class 'pandas.core.frame.DataFrame'>\n",
      "RangeIndex: 891 entries, 0 to 890\n",
      "Data columns (total 12 columns):\n",
      " #   Column       Non-Null Count  Dtype  \n",
      "---  ------       --------------  -----  \n",
      " 0   PassengerId  891 non-null    int64  \n",
      " 1   Survived     891 non-null    int64  \n",
      " 2   Pclass       891 non-null    int64  \n",
      " 3   Name         891 non-null    object \n",
      " 4   Sex          891 non-null    object \n",
      " 5   Age          714 non-null    float64\n",
      " 6   SibSp        891 non-null    int64  \n",
      " 7   Parch        891 non-null    int64  \n",
      " 8   Ticket       891 non-null    object \n",
      " 9   Fare         891 non-null    float64\n",
      " 10  Cabin        204 non-null    object \n",
      " 11  Embarked     889 non-null    object \n",
      "dtypes: float64(2), int64(5), object(5)\n",
      "memory usage: 83.7+ KB\n"
     ]
    }
   ],
   "source": [
    "#creating the data frame\n",
    "titanic_data = pd.read_csv(\"titanic.csv\")\n",
    "#checking the shape\n",
    "print(titanic_data.shape)\n",
    "#checking the information about data frame, weather the data has null values or not\n",
    "titanic_data.info()"
   ]
  },
  {
   "cell_type": "markdown",
   "id": "b084d116",
   "metadata": {},
   "source": [
    "### Before Cleaning"
   ]
  },
  {
   "cell_type": "code",
   "execution_count": 3,
   "id": "f61056ec",
   "metadata": {},
   "outputs": [
    {
     "data": {
      "text/plain": [
       "PassengerId      0\n",
       "Survived         0\n",
       "Pclass           0\n",
       "Name             0\n",
       "Sex              0\n",
       "Age            177\n",
       "SibSp            0\n",
       "Parch            0\n",
       "Ticket           0\n",
       "Fare             0\n",
       "Cabin          687\n",
       "Embarked         2\n",
       "dtype: int64"
      ]
     },
     "execution_count": 3,
     "metadata": {},
     "output_type": "execute_result"
    }
   ],
   "source": [
    "# To check the number of missing values\n",
    "titanic_data.isnull().sum()"
   ]
  },
  {
   "cell_type": "markdown",
   "id": "ed86121a",
   "metadata": {},
   "source": [
    "### After Cleaning"
   ]
  },
  {
   "cell_type": "code",
   "execution_count": 4,
   "id": "5bd84946",
   "metadata": {},
   "outputs": [
    {
     "data": {
      "text/plain": [
       "PassengerId    0\n",
       "Survived       0\n",
       "Pclass         0\n",
       "Name           0\n",
       "Sex            0\n",
       "Age            0\n",
       "SibSp          0\n",
       "Parch          0\n",
       "Ticket         0\n",
       "Fare           0\n",
       "Embarked       0\n",
       "dtype: int64"
      ]
     },
     "execution_count": 4,
     "metadata": {},
     "output_type": "execute_result"
    }
   ],
   "source": [
    "# Dropping the \"Cabin\" column from the dataframe because cabin has more than 30% null values.\n",
    "titanic_data = titanic_data.drop(columns='Cabin', axis=1)\n",
    "\n",
    "# Replacing the missing vlaues in \"Age\" column with mean \n",
    "titanic_data['Age'].fillna(titanic_data['Age'].mean(), inplace=True)\n",
    "\n",
    "# Replacing the missing values in \"Embarked\" column with the mode value\n",
    "titanic_data['Embarked'].fillna(titanic_data['Embarked'].mode()[0], inplace=True)\n",
    "\n",
    "titanic_data.isnull().sum()"
   ]
  },
  {
   "cell_type": "markdown",
   "id": "9c666fce",
   "metadata": {},
   "source": [
    "### Data Analysis"
   ]
  },
  {
   "cell_type": "code",
   "execution_count": 5,
   "id": "8863e299",
   "metadata": {},
   "outputs": [
    {
     "data": {
      "text/plain": [
       "Sex     Survived\n",
       "male    0           468\n",
       "female  1           233\n",
       "male    1           109\n",
       "female  0            81\n",
       "dtype: int64"
      ]
     },
     "execution_count": 5,
     "metadata": {},
     "output_type": "execute_result"
    }
   ],
   "source": [
    "# Finding the number of people survived and not survived based on Gender!\n",
    "titanic_data[['Sex', 'Survived']].value_counts()"
   ]
  },
  {
   "cell_type": "code",
   "execution_count": 6,
   "id": "08670b33",
   "metadata": {},
   "outputs": [
    {
     "data": {
      "text/plain": [
       "<Axes: xlabel='Sex', ylabel='count'>"
      ]
     },
     "execution_count": 6,
     "metadata": {},
     "output_type": "execute_result"
    },
    {
     "data": {
      "image/png": "[encoded data removed]",
      "text/plain": [
       "<Figure size 640x480 with 1 Axes>"
      ]
     },
     "metadata": {},
     "output_type": "display_data"
    }
   ],
   "source": [
    "# Number of survivors by Gender wise\n",
    "sns.countplot(x=\"Sex\", hue=\"Survived\", data=titanic_data)"
   ]
  },
  {
   "cell_type": "code",
   "execution_count": 7,
   "id": "05aa0d4f",
   "metadata": {},
   "outputs": [
    {
     "data": {
      "text/plain": [
       "Pclass  Survived\n",
       "3       0           372\n",
       "1       1           136\n",
       "3       1           119\n",
       "2       0            97\n",
       "        1            87\n",
       "1       0            80\n",
       "dtype: int64"
      ]
     },
     "execution_count": 7,
     "metadata": {},
     "output_type": "execute_result"
    }
   ],
   "source": [
    "# Finding the number of people survived and not survived based on Passenger Class!\n",
    "titanic_data[['Pclass', 'Survived']].value_counts()"
   ]
  },
  {
   "cell_type": "code",
   "execution_count": 8,
   "id": "083f9bda",
   "metadata": {},
   "outputs": [
    {
     "data": {
      "text/plain": [
       "<Axes: xlabel='Pclass', ylabel='count'>"
      ]
     },
     "execution_count": 8,
     "metadata": {},
     "output_type": "execute_result"
    },
    {
     "data": {
      "image/png": "[encoded data removed]",
      "text/plain": [
       "<Figure size 640x480 with 1 Axes>"
      ]
     },
     "metadata": {},
     "output_type": "display_data"
    }
   ],
   "source": [
    "# Number of Survivers by Pclass wise \n",
    "sns.countplot(x=\"Pclass\", hue=\"Survived\", data=titanic_data)"
   ]
  },
  {
   "cell_type": "markdown",
   "id": "1582529d",
   "metadata": {},
   "source": [
    "### Data Preprocessing"
   ]
  },
  {
   "cell_type": "code",
   "execution_count": 9,
   "id": "088bbbd1",
   "metadata": {},
   "outputs": [],
   "source": [
    "titanic_data[\"Sex\"] = LabelEncoder().fit_transform(titanic_data[\"Sex\"])\n",
    "titanic_data[\"Embarked\"] = LabelEncoder().fit_transform(titanic_data[\"Embarked\"])"
   ]
  },
  {
   "cell_type": "markdown",
   "id": "87eaaa05",
   "metadata": {},
   "source": [
    "### Selecting the required columns for performing operations on data"
   ]
  },
  {
   "cell_type": "code",
   "execution_count": 10,
   "id": "b6dd1b87",
   "metadata": {},
   "outputs": [
    {
     "name": "stdout",
     "output_type": "stream",
     "text": [
      "     Pclass  Sex        Age  SibSp  Parch     Fare  Embarked\n",
      "0         3    1  22.000000      1      0   7.2500         2\n",
      "1         1    0  38.000000      1      0  71.2833         0\n",
      "2         3    0  26.000000      0      0   7.9250         2\n",
      "3         1    0  35.000000      1      0  53.1000         2\n",
      "4         3    1  35.000000      0      0   8.0500         2\n",
      "..      ...  ...        ...    ...    ...      ...       ...\n",
      "886       2    1  27.000000      0      0  13.0000         2\n",
      "887       1    0  19.000000      0      0  30.0000         2\n",
      "888       3    0  29.699118      1      2  23.4500         2\n",
      "889       1    1  26.000000      0      0  30.0000         0\n",
      "890       3    1  32.000000      0      0   7.7500         1\n",
      "\n",
      "[891 rows x 7 columns]\n",
      "\n",
      "\n",
      "0      0\n",
      "1      1\n",
      "2      1\n",
      "3      1\n",
      "4      0\n",
      "      ..\n",
      "886    0\n",
      "887    1\n",
      "888    0\n",
      "889    1\n",
      "890    0\n",
      "Name: Survived, Length: 891, dtype: int64\n"
     ]
    }
   ],
   "source": [
    "X = titanic_data[[\"Pclass\", \"Sex\", \"Age\", \"SibSp\",\"Parch\",\"Fare\",\"Embarked\"]]\n",
    "y = titanic_data['Survived']\n",
    "\n",
    "print(X)\n",
    "print(\"\\n\")\n",
    "print(y)"
   ]
  },
  {
   "cell_type": "markdown",
   "id": "dcea22e1",
   "metadata": {},
   "source": [
    "### Splitting the sheet into Training and Testing Datasets"
   ]
  },
  {
   "cell_type": "code",
   "execution_count": 11,
   "id": "fe3ac795",
   "metadata": {},
   "outputs": [
    {
     "name": "stdout",
     "output_type": "stream",
     "text": [
      "Train: (891, 7), (712, 7), (712,)\n",
      "Test: (891, 7), (179, 7), (179,)\n"
     ]
    }
   ],
   "source": [
    "X_train, X_test, y_train, y_test = train_test_split(X, y, test_size=0.2, random_state=2)\n",
    "print(f\"Train: {X.shape}, {X_train.shape}, {y_train.shape}\")\n",
    "print(f\"Test: {X.shape}, {X_test.shape}, {y_test.shape}\")"
   ]
  },
  {
   "cell_type": "markdown",
   "id": "3d287bc2",
   "metadata": {},
   "source": [
    "### Checking the Scores of the Models"
   ]
  },
  {
   "cell_type": "code",
   "execution_count": 12,
   "id": "b575d127",
   "metadata": {},
   "outputs": [
    {
     "name": "stdout",
     "output_type": "stream",
     "text": [
      "============================================================\n",
      "SVC\n",
      "Scores: [0.59776536 0.71348315 0.69101124 0.68539326 0.69101124]\n",
      "Mean Score: 0.6757328479065972\n",
      "============================================================\n",
      "Gaussian NB\n",
      "Scores: [0.77094972 0.79213483 0.78651685 0.80337079 0.80337079]\n",
      "Mean Score: 0.7912685958194715\n",
      "============================================================\n",
      "Random Forest\n",
      "Scores: [0.77653631 0.80337079 0.87078652 0.78089888 0.81460674]\n",
      "Mean Score: 0.8092398468394952\n"
     ]
    }
   ],
   "source": [
    "# Defining scoring metric for SVC, Gaussian Navie Bayes , Random Forest\n",
    "def cv_scoring(estimator, X, y):\n",
    "    return accuracy_score(y, estimator.predict(X))\n",
    "\n",
    "# Initializing Models\n",
    "models = {\n",
    "    \"SVC\":SVC(),\n",
    "    \"Gaussian NB\":GaussianNB(),\n",
    "    \"Random Forest\":RandomForestClassifier(random_state=18)\n",
    "}\n",
    "\n",
    "# Producing cross validation score for the models\n",
    "for model_name in models:\n",
    "    model = models[model_name]\n",
    "    scores = cross_val_score(model, X, y, cv = 5, n_jobs = -1, scoring = cv_scoring, error_score='raise')\n",
    "    print(\"==\"*30)\n",
    "    print(model_name)\n",
    "    print(f\"Scores: {scores}\")\n",
    "    print(f\"Mean Score: {np.mean(scores)}\")\n",
    "\n"
   ]
  },
  {
   "cell_type": "markdown",
   "id": "7a5963bb",
   "metadata": {},
   "source": [
    "### Training the model and testing the accuracy of the model by using  SVM Classifier,Naive Bayes Classifier, Random Forest Classifier"
   ]
  },
  {
   "cell_type": "code",
   "execution_count": 13,
   "id": "de497d07",
   "metadata": {},
   "outputs": [
    {
     "name": "stdout",
     "output_type": "stream",
     "text": [
      "Accuracy on train data by SVM Classifier: 67.97752808988764\n",
      "Accuracy on test data by SVM Classifier: 63.687150837988824\n"
     ]
    },
    {
     "data": {
      "image/png": "[encoded data removed]",
      "text/plain": [
       "<Figure size 1200x800 with 2 Axes>"
      ]
     },
     "metadata": {},
     "output_type": "display_data"
    },
    {
     "name": "stdout",
     "output_type": "stream",
     "text": [
      "Accuracy on train data by Naive Bayes Classifier: 79.49438202247191\n",
      "Accuracy on test data by Naive Bayes Classifier: 77.09497206703911\n"
     ]
    },
    {
     "data": {
      "image/png": "[encoded data removed]",
      "text/plain": [
       "<Figure size 1200x800 with 2 Axes>"
      ]
     },
     "metadata": {},
     "output_type": "display_data"
    },
    {
     "name": "stdout",
     "output_type": "stream",
     "text": [
      "Accuracy on train data by Random Forest Classifier: 98.59550561797754\n",
      "Accuracy on test data by Random Forest Classifier: 82.12290502793296\n"
     ]
    },
    {
     "data": {
      "image/png": "[encoded data removed]",
      "text/plain": [
       "<Figure size 1200x800 with 2 Axes>"
      ]
     },
     "metadata": {},
     "output_type": "display_data"
    }
   ],
   "source": [
    "# Training and testing SVM Classifier\n",
    "svm_model = SVC()\n",
    "svm_model.fit(X_train, y_train)\n",
    "preds = svm_model.predict(X_test)\n",
    "\n",
    "print(f\"Accuracy on train data by SVM Classifier\\\n",
    ": {accuracy_score(y_train, svm_model.predict(X_train))*100}\")\n",
    "\n",
    "print(f\"Accuracy on test data by SVM Classifier\\\n",
    ": {accuracy_score(y_test, preds)*100}\")\n",
    "\n",
    "cf_matrix = confusion_matrix(y_test, preds)\n",
    "plt.figure(figsize=(12,8))\n",
    "sns.heatmap(cf_matrix, annot=True)\n",
    "plt.title(\"Confusion Matrix for SVM Classifier on Test Data\")\n",
    "plt.show()\n",
    "\n",
    "\n",
    "# Training and testing Naive Bayes Classifier\n",
    "nb_model = GaussianNB()\n",
    "nb_model.fit(X_train, y_train)\n",
    "preds = nb_model.predict(X_test)\n",
    "print(f\"Accuracy on train data by Naive Bayes Classifier\\\n",
    ": {accuracy_score(y_train, nb_model.predict(X_train))*100}\")\n",
    "\n",
    "print(f\"Accuracy on test data by Naive Bayes Classifier\\\n",
    ": {accuracy_score(y_test, preds)*100}\")\n",
    "cf_matrix = confusion_matrix(y_test, preds)\n",
    "plt.figure(figsize=(12,8))\n",
    "sns.heatmap(cf_matrix, annot=True)\n",
    "plt.title(\"Confusion Matrix for Naive Bayes Classifier on Test Data\")\n",
    "plt.show()\n",
    "\n",
    "\n",
    "# Training and testing Random Forest Classifier\n",
    "rf_model = RandomForestClassifier(random_state=18)\n",
    "rf_model.fit(X_train, y_train)\n",
    "preds = rf_model.predict(X_test)\n",
    "print(f\"Accuracy on train data by Random Forest Classifier\\\n",
    ": {accuracy_score(y_train, rf_model.predict(X_train))*100}\")\n",
    "\n",
    "print(f\"Accuracy on test data by Random Forest Classifier\\\n",
    ": {accuracy_score(y_test, preds)*100}\")\n",
    "\n",
    "cf_matrix = confusion_matrix(y_test, preds)\n",
    "plt.figure(figsize=(12,8))\n",
    "sns.heatmap(cf_matrix, annot=True)\n",
    "plt.title(\"Confusion Matrix for Random Forest Classifier on Test Data\")\n",
    "plt.show()\n"
   ]
  },
  {
   "cell_type": "markdown",
   "id": "c9a39977",
   "metadata": {},
   "source": [
    "### Testing the model"
   ]
  },
  {
   "cell_type": "code",
   "execution_count": 14,
   "id": "27cc45be",
   "metadata": {},
   "outputs": [
    {
     "name": "stdout",
     "output_type": "stream",
     "text": [
      "The person is predicted not to survive.\n"
     ]
    }
   ],
   "source": [
    "from sklearn.pipeline import Pipeline\n",
    "from sklearn.impute import SimpleImputer\n",
    "from sklearn.preprocessing import StandardScaler, OneHotEncoder\n",
    "from sklearn.ensemble import RandomForestClassifier\n",
    "from sklearn.compose import ColumnTransformer\n",
    "\n",
    "# Define preprocessing for numeric features\n",
    "numeric_features = ['Age', 'SibSp', 'Parch', 'Fare']\n",
    "numeric_transformer = Pipeline(steps=[\n",
    "    ('imputer', SimpleImputer(strategy='median')),\n",
    "])\n",
    "\n",
    "# Define preprocessing for categorical features\n",
    "categorical_features = ['Sex', 'Embarked']\n",
    "categorical_transformer = Pipeline(steps=[\n",
    "    ('imputer', SimpleImputer(strategy='most_frequent')),\n",
    "    ('onehot', OneHotEncoder(handle_unknown='ignore')),\n",
    "])\n",
    "\n",
    "# Combine preprocessing steps\n",
    "preprocessor = ColumnTransformer(\n",
    "    transformers=[\n",
    "        ('num', numeric_transformer, numeric_features),\n",
    "        ('cat', categorical_transformer, categorical_features)\n",
    "    ])\n",
    "\n",
    "# Create preprocessing and modeling pipeline\n",
    "pipeline = Pipeline(steps=[('preprocessor', preprocessor),\n",
    "                           ('classifier', RandomForestClassifier(random_state=42))])\n",
    "\n",
    "# Fit the pipeline to training data\n",
    "pipeline.fit(X_train, y_train)\n",
    "\n",
    "# Example input data\n",
    "input_data = {\n",
    "    \"Pclass\": [1],\n",
    "    \"Sex\": [\"female\"],\n",
    "    \"Age\": [22],\n",
    "    \"SibSp\": [1],\n",
    "    \"Parch\": [0],\n",
    "    \"Fare\": [7.25],\n",
    "    \"Embarked\": [\"S\"]\n",
    "}\n",
    "\n",
    "import pandas as pd\n",
    "\n",
    "# Convert input data dictionary to DataFrame\n",
    "input_df = pd.DataFrame(input_data)\n",
    "\n",
    "# Predict survival using the trained model\n",
    "prediction = pipeline.predict(input_df)\n",
    "\n",
    "# Print the prediction\n",
    "if prediction[0] == 1:\n",
    "    print(\"The person is predicted to survive.\")\n",
    "else:\n",
    "    print(\"The person is predicted not to survive.\")\n"
   ]
  }
 ],
 "metadata": {
  "kernelspec": {
   "display_name": "Python 3 (ipykernel)",
   "language": "python",
   "name": "python3"
  },
  "language_info": {
   "codemirror_mode": {
    "name": "ipython",
    "version": 3
   },
   "file_extension": ".py",
   "mimetype": "text/x-python",
   "name": "python",
   "nbconvert_exporter": "python",
   "pygments_lexer": "ipython3",
   "version": "3.10.9"
  }
 },
 "nbformat": 4,
 "nbformat_minor": 5
}
