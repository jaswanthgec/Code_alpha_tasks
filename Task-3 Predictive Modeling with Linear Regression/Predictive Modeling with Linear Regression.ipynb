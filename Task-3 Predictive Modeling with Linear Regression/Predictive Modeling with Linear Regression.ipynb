{
 "cells": [
  {
   "cell_type": "markdown",
   "id": "c1d66017",
   "metadata": {},
   "source": [
    "# Loading the dataset and splitting the independent and dependent attributes"
   ]
  },
  {
   "cell_type": "code",
   "execution_count": 1,
   "id": "e9a8c0f6",
   "metadata": {},
   "outputs": [],
   "source": [
    "import pandas as pd\n",
    "df = pd.read_csv(\"Advertising.csv\")\n",
    "x=df.iloc[:,0:3].values\n",
    "y=df.iloc[:,3].values"
   ]
  },
  {
   "cell_type": "markdown",
   "id": "59636b58",
   "metadata": {},
   "source": [
    "# Splitting the training dataset and testing dataset"
   ]
  },
  {
   "cell_type": "code",
   "execution_count": 2,
   "id": "e5d84648",
   "metadata": {},
   "outputs": [],
   "source": [
    "from sklearn.model_selection import train_test_split\n",
    "x_train, x_test, y_train, y_test = train_test_split(x, y, test_size=0.3)"
   ]
  },
  {
   "cell_type": "markdown",
   "id": "e9f2612e",
   "metadata": {},
   "source": [
    "# Initialize the linear regression, fit the model and predict the test dataset"
   ]
  },
  {
   "cell_type": "code",
   "execution_count": 3,
   "id": "14b6b1e8",
   "metadata": {},
   "outputs": [],
   "source": [
    "from sklearn.linear_model import LinearRegression\n",
    "model = LinearRegression()\n",
    "model.fit(x_train, y_train)\n",
    "y_pred = model.predict(x_test)"
   ]
  },
  {
   "cell_type": "markdown",
   "id": "5607d703",
   "metadata": {},
   "source": [
    "# Applying least squares model for the regression"
   ]
  },
  {
   "cell_type": "code",
   "execution_count": 4,
   "id": "42a5df17",
   "metadata": {},
   "outputs": [
    {
     "name": "stdout",
     "output_type": "stream",
     "text": [
      "predicted_sales : [7.53847957]\n"
     ]
    }
   ],
   "source": [
    "predicted_sales = model.predict([[20,14,21]])\n",
    "print(\"predicted_sales :\",predicted_sales)"
   ]
  },
  {
   "cell_type": "markdown",
   "id": "5cd44d69",
   "metadata": {},
   "source": [
    "# Calculating the accuracy of model using r2 score method"
   ]
  },
  {
   "cell_type": "code",
   "execution_count": 5,
   "id": "44ed9f48",
   "metadata": {},
   "outputs": [
    {
     "name": "stdout",
     "output_type": "stream",
     "text": [
      "Accuracy using R2 Score: 92 %\n"
     ]
    }
   ],
   "source": [
    "from sklearn.metrics import r2_score\n",
    "r2 = r2_score(y_test, y_pred)\n",
    "print(\"Accuracy using R2 Score:\", int(r2*100),\"%\")"
   ]
  },
  {
   "cell_type": "markdown",
   "id": "fba4c59f",
   "metadata": {},
   "source": [
    "# Calculating Mean Squared Error in out dataset"
   ]
  },
  {
   "cell_type": "code",
   "execution_count": 6,
   "id": "9ebf76f8",
   "metadata": {},
   "outputs": [
    {
     "name": "stdout",
     "output_type": "stream",
     "text": [
      "Mean Squared Error: 2.4623380066054543\n"
     ]
    }
   ],
   "source": [
    "from sklearn.metrics import mean_squared_error\n",
    "mse = mean_squared_error(y_test, y_pred)\n",
    "print(\"Mean Squared Error:\", mse)"
   ]
  }
 ],
 "metadata": {
  "kernelspec": {
   "display_name": "Python 3 (ipykernel)",
   "language": "python",
   "name": "python3"
  },
  "language_info": {
   "codemirror_mode": {
    "name": "ipython",
    "version": 3
   },
   "file_extension": ".py",
   "mimetype": "text/x-python",
   "name": "python",
   "nbconvert_exporter": "python",
   "pygments_lexer": "ipython3",
   "version": "3.10.9"
  }
 },
 "nbformat": 4,
 "nbformat_minor": 5
}
